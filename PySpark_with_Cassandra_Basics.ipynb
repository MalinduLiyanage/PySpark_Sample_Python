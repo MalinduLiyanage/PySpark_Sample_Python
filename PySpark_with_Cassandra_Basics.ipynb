{
 "cells": [
  {
   "cell_type": "markdown",
   "id": "fdb89cd6-cc91-47af-b503-286e2cc521b7",
   "metadata": {},
   "source": [
    "# PySpark with Cassandra"
   ]
  },
  {
   "cell_type": "markdown",
   "id": "0b2efd9e-f462-48ad-b7ff-0090c2e8b92c",
   "metadata": {},
   "source": [
    "## PySpark is the Python API for Apache Spark, a powerful framework for large-scale data processing"
   ]
  },
  {
   "cell_type": "code",
   "execution_count": 1,
   "id": "cfbf1591-d58b-4993-91a8-e26927bf67b8",
   "metadata": {},
   "outputs": [],
   "source": [
    "from pyspark.sql import SparkSession # This imports the SparkSession class from the PySpark library.\n",
    "\n",
    "# Lets Initialize a new SparkSession, which is the entry point to programming Spark with the Dataset and DataFrame API.\n",
    "# .builder: This starts the process of creating a SparkSession. \n",
    "# .appName(\"Customer Dataset Analysis\"): Sets the name of the Spark application as “Customer Dataset Analysis.” This name appears in logs, the Spark UI, and other places. \n",
    "# .getOrCreate(): Either returns an existing SparkSession if one already exists in the current context, or creates a new one.\n",
    "\n",
    "spark = SparkSession.builder \\\n",
    "    .appName(\"ReadFromCassandra\") \\\n",
    "    .config(\"spark.jars.packages\", \"com.datastax.spark:spark-cassandra-connector_2.12:3.4.0\") \\\n",
    "    .config(\"spark.cassandra.connection.host\", \"127.0.0.1\") \\\n",
    "    .config(\"spark.cassandra.connection.port\", \"9042\") \\\n",
    "    .getOrCreate()"
   ]
  },
  {
   "cell_type": "code",
   "execution_count": 2,
   "id": "1a830b2a-a89d-41f6-80dd-b59190bfce07",
   "metadata": {},
   "outputs": [
    {
     "name": "stdout",
     "output_type": "stream",
     "text": [
      "<pyspark.sql.session.SparkSession object at 0x0000013A92181280>\n"
     ]
    }
   ],
   "source": [
    "# confirms that the spark instance is configured and running\n",
    "print(spark)"
   ]
  },
  {
   "cell_type": "code",
   "execution_count": 3,
   "id": "5a2ae734-1642-4897-b5d8-261682041086",
   "metadata": {},
   "outputs": [],
   "source": [
    "# Spark DataFrame called df, which holds the data for processing\n",
    "\n",
    "df = spark.read \\\n",
    "    .format(\"org.apache.spark.sql.cassandra\") \\\n",
    "    .options(table=\"customers\", keyspace=\"pyspark_keyspace\") \\\n",
    "    .load()"
   ]
  },
  {
   "cell_type": "code",
   "execution_count": 4,
   "id": "961474f6-39d8-4e29-8e55-3563f52924a2",
   "metadata": {},
   "outputs": [
    {
     "name": "stdout",
     "output_type": "stream",
     "text": [
      "+--------------------+--------------------+------------+----------+---------+-----------------------+-------+\n",
      "|         customer_id|             address|assets_value|first_name|last_name|purchase_amount_per_day| salary|\n",
      "+--------------------+--------------------+------------+----------+---------+-----------------------+-------+\n",
      "|0e07a711-9338-450...|6238 Elm St, Los ...|   914312.12|      Jane|    Jones|                 623.35| 3015.4|\n",
      "|8489da6b-9076-4e4...|39 Main St, Los A...|    333407.9|     Alice|      Doe|                  137.1|4818.09|\n",
      "|685b993f-571d-411...|3858 Pine Ave, Ph...|    901010.6|   Charlie|    Smith|                 285.31|4007.45|\n",
      "|ad347a5c-6c89-4e1...|8983 Oak St, Houston|    674981.9|     Emily|  Johnson|                 746.17|4457.55|\n",
      "|da0c930e-1238-4c6...|7611 Maple Blvd, ...|   749505.48|     David|    Smith|                  63.65|9220.52|\n",
      "|0ae62535-bb04-443...|8336 Pine Ave, Lo...|     45218.1|      Jane|    Brown|                 494.71|4550.61|\n",
      "|e24d89fe-d2d8-44e...|9659 Elm St, New ...|   845708.49|       Bob|    Jones|                 757.81|7329.79|\n",
      "|2c038c58-4074-461...|1441 Pine Ave, Ph...|    35767.32|     David|    Brown|                  708.3|9131.28|\n",
      "|c0d0534a-cd6e-47a...|5060 Elm St, New ...|   675089.59|      John| Williams|                 941.71| 8413.3|\n",
      "|7a119254-fa90-46e...|3286 Maple Blvd, ...|   168727.34|   Michael|   Garcia|                 868.08|6211.16|\n",
      "|c085f64c-a96f-4a9...|8300 Elm St, Chicago|   631782.27|    Olivia|   Taylor|                 651.27|9981.72|\n",
      "|001106b4-eca2-4dd...|1148 Oak St, New ...|   706468.19|   Charlie|    Davis|                 129.05|7840.35|\n",
      "|9f7b6f23-c923-4c2...|8604 Maple Blvd, ...|   968805.16|    Olivia|    Davis|                 604.93| 5145.2|\n",
      "|70ad1e44-ca61-477...|2805 Pine Ave, Ne...|    550679.1|     Alice|   Garcia|                 261.33|9444.34|\n",
      "|5710091b-afb0-47c...|8214 Oak St, Los ...|   376176.71|      Jane|   Miller|                  877.4|6027.39|\n",
      "|63c6073c-8af1-414...|2675 Elm St, Los ...|    63886.02|   Michael|    Brown|                 519.86|3746.47|\n",
      "|a3014e1b-b287-4ff...|4996 Oak St, Los ...|    688935.4|     David|    Davis|                 402.19|3534.56|\n",
      "|96a0695c-f890-49e...|3552 Oak St, New ...|    427849.7|   Michael|    Smith|                 197.41|7084.36|\n",
      "|6f8d8f6e-f89a-4bb...|3239 Pine Ave, Ho...|   930835.17|      Jane|    Davis|                  62.29|4868.63|\n",
      "|d147c0bd-4c04-4ce...|8719 Maple Blvd, ...|   383583.49|   Charlie|    Smith|                 558.11|6159.33|\n",
      "+--------------------+--------------------+------------+----------+---------+-----------------------+-------+\n",
      "only showing top 20 rows\n",
      "\n"
     ]
    }
   ],
   "source": [
    "df.show()"
   ]
  },
  {
   "cell_type": "code",
   "execution_count": 5,
   "id": "50982647-59fd-4a72-b844-4feb96b938a4",
   "metadata": {},
   "outputs": [
    {
     "name": "stdout",
     "output_type": "stream",
     "text": [
      "root\n",
      " |-- customer_id: string (nullable = false)\n",
      " |-- address: string (nullable = true)\n",
      " |-- assets_value: double (nullable = true)\n",
      " |-- first_name: string (nullable = true)\n",
      " |-- last_name: string (nullable = true)\n",
      " |-- purchase_amount_per_day: double (nullable = true)\n",
      " |-- salary: double (nullable = true)\n",
      "\n"
     ]
    }
   ],
   "source": [
    "# This prints the schema (structure) of your DataFrame df in a tree format.\n",
    "# It shows: Column names Data types Whether a column can contain null values\n",
    "\n",
    "df.printSchema()"
   ]
  },
  {
   "cell_type": "markdown",
   "id": "db572dd4-2d6e-416f-bf8a-e909ba496548",
   "metadata": {},
   "source": [
    "# Basic Actions and Select"
   ]
  },
  {
   "cell_type": "markdown",
   "id": "e0126d21-363a-42b6-be30-c402465518c6",
   "metadata": {},
   "source": [
    "## Transformations and Actions"
   ]
  },
  {
   "cell_type": "markdown",
   "id": "7709045c-c86c-4eb0-b3e4-ead7b71abc01",
   "metadata": {},
   "source": [
    "<table border=\"1\" cellpadding=\"5\" cellspacing=\"0\">\n",
    "  <tr>\n",
    "    <th>Type</th>\n",
    "    <th>Method</th>\n",
    "    <th>Explanation</th>\n",
    "  </tr>\n",
    "  <tr>\n",
    "    <td>Transformation</td>\n",
    "    <td>filter()</td>\n",
    "    <td>Filters rows based on a condition.</td>\n",
    "  </tr>\n",
    "  <tr>\n",
    "    <td>Transformation</td>\n",
    "    <td>select()</td>\n",
    "    <td>Selects specific columns from the DataFrame.</td>\n",
    "  </tr>\n",
    "  <tr>\n",
    "    <td>Transformation</td>\n",
    "    <td>withColumn()</td>\n",
    "    <td>Adds a new column or replaces an existing one.</td>\n",
    "  </tr>\n",
    "  <tr>\n",
    "    <td>Transformation</td>\n",
    "    <td>drop()</td>\n",
    "    <td>Drops one or more columns.</td>\n",
    "  </tr>\n",
    "  <tr>\n",
    "    <td>Transformation</td>\n",
    "    <td>groupBy()</td>\n",
    "    <td>Groups rows by a specific column for aggregation.</td>\n",
    "  </tr>\n",
    "  <tr>\n",
    "    <td>Transformation</td>\n",
    "    <td>orderBy()</td>\n",
    "    <td>Sorts rows by a column or expression.</td>\n",
    "  </tr>\n",
    "  <tr>\n",
    "    <td>Action</td>\n",
    "    <td>show()</td>\n",
    "    <td>Displays the first few rows of the DataFrame.</td>\n",
    "  </tr>\n",
    "  <tr>\n",
    "    <td>Action</td>\n",
    "    <td>count()</td>\n",
    "    <td>Returns the number of rows in the DataFrame.</td>\n",
    "  </tr>\n",
    "  <tr>\n",
    "    <td>Action</td>\n",
    "    <td>collect()</td>\n",
    "    <td>Returns all rows as a list (caution: can be expensive for large datasets!).</td>\n",
    "  </tr>\n",
    "  <tr>\n",
    "    <td>Action</td>\n",
    "    <td>take(n)</td>\n",
    "    <td>Returns the first n rows as a list.</td>\n",
    "  </tr>\n",
    "  <tr>\n",
    "    <td>Action</td>\n",
    "    <td>write()</td>\n",
    "    <td>Writes the DataFrame to storage (e.g., as CSV, Parquet, etc.).</td>\n",
    "  </tr>\n",
    "</table>\n"
   ]
  },
  {
   "cell_type": "code",
   "execution_count": 6,
   "id": "3c3a61aa-274a-4f01-8938-8bbe67255762",
   "metadata": {},
   "outputs": [
    {
     "name": "stdout",
     "output_type": "stream",
     "text": [
      "+--------------------+--------------------+------------+----------+---------+-----------------------+-------+\n",
      "|         customer_id|             address|assets_value|first_name|last_name|purchase_amount_per_day| salary|\n",
      "+--------------------+--------------------+------------+----------+---------+-----------------------+-------+\n",
      "|754e9d3c-136d-4c8...|123 Oak St, Los A...|    75236.43|      John|    Jones|                 627.66|8118.38|\n",
      "|3953f8c0-4097-41f...|6133 Pine Ave, Ne...|   369825.66|       Bob|  Johnson|                 420.54|9603.33|\n",
      "|02387a88-eeb1-48c...|4217 Pine Ave, Ph...|    689558.9|   Michael|    Smith|                 817.96|7244.67|\n",
      "|0e07a711-9338-450...|6238 Elm St, Los ...|   914312.12|      Jane|    Jones|                 623.35| 3015.4|\n",
      "|8489da6b-9076-4e4...|39 Main St, Los A...|    333407.9|     Alice|      Doe|                  137.1|4818.09|\n",
      "+--------------------+--------------------+------------+----------+---------+-----------------------+-------+\n",
      "only showing top 5 rows\n",
      "\n"
     ]
    }
   ],
   "source": [
    "df.show(5) # Show first 5 rows"
   ]
  },
  {
   "cell_type": "code",
   "execution_count": 7,
   "id": "c71ac4f8-f549-4849-928f-343bdb3c7c2d",
   "metadata": {},
   "outputs": [
    {
     "name": "stdout",
     "output_type": "stream",
     "text": [
      "root\n",
      " |-- customer_id: string (nullable = false)\n",
      " |-- address: string (nullable = true)\n",
      " |-- assets_value: double (nullable = true)\n",
      " |-- first_name: string (nullable = true)\n",
      " |-- last_name: string (nullable = true)\n",
      " |-- purchase_amount_per_day: double (nullable = true)\n",
      " |-- salary: double (nullable = true)\n",
      "\n"
     ]
    }
   ],
   "source": [
    "df.printSchema() # Show schema"
   ]
  },
  {
   "cell_type": "code",
   "execution_count": 8,
   "id": "f61a3a1b-afe7-4ebc-98af-27d74babe47e",
   "metadata": {},
   "outputs": [
    {
     "data": {
      "text/plain": [
       "102"
      ]
     },
     "execution_count": 8,
     "metadata": {},
     "output_type": "execute_result"
    }
   ],
   "source": [
    "df.count() # Number of rows"
   ]
  },
  {
   "cell_type": "code",
   "execution_count": 9,
   "id": "cc0b59fd-2468-4fed-af5a-0cb3c19f01bb",
   "metadata": {},
   "outputs": [
    {
     "data": {
      "text/plain": [
       "['customer_id',\n",
       " 'address',\n",
       " 'assets_value',\n",
       " 'first_name',\n",
       " 'last_name',\n",
       " 'purchase_amount_per_day',\n",
       " 'salary']"
      ]
     },
     "execution_count": 9,
     "metadata": {},
     "output_type": "execute_result"
    }
   ],
   "source": [
    "df.columns # List of columns"
   ]
  },
  {
   "cell_type": "code",
   "execution_count": 10,
   "id": "615d2187-39e0-4da0-ba99-1b124c776da5",
   "metadata": {},
   "outputs": [
    {
     "name": "stdout",
     "output_type": "stream",
     "text": [
      "+----------+\n",
      "|first_name|\n",
      "+----------+\n",
      "|      John|\n",
      "|   Michael|\n",
      "|   Charlie|\n",
      "|     David|\n",
      "|     Emily|\n",
      "+----------+\n",
      "only showing top 5 rows\n",
      "\n"
     ]
    }
   ],
   "source": [
    "df.select(\"first_name\").show(5) # Select one column"
   ]
  },
  {
   "cell_type": "code",
   "execution_count": 11,
   "id": "38800cc2-74f3-4967-bd3a-7a6b791045b9",
   "metadata": {},
   "outputs": [
    {
     "name": "stdout",
     "output_type": "stream",
     "text": [
      "+----------+---------+\n",
      "|first_name|last_name|\n",
      "+----------+---------+\n",
      "|    Olivia|  Johnson|\n",
      "|   Michael|    Davis|\n",
      "|     David|   Miller|\n",
      "|     Emily|   Garcia|\n",
      "|     Emily| Williams|\n",
      "+----------+---------+\n",
      "only showing top 5 rows\n",
      "\n"
     ]
    }
   ],
   "source": [
    "df.select(\"first_name\", \"last_name\").show(5) # Select multiple columns"
   ]
  },
  {
   "cell_type": "code",
   "execution_count": 12,
   "id": "fd487182-2fab-400f-a8c4-f0045860202e",
   "metadata": {},
   "outputs": [
    {
     "data": {
      "text/plain": [
       "[Row(customer_id='c0d0534a-cd6e-47a0-869e-2df08d8b6e6f', address='5060 Elm St, New York', assets_value=675089.59, first_name='John', last_name='Williams', purchase_amount_per_day=941.71, salary=8413.3),\n",
       " Row(customer_id='7a119254-fa90-46ef-97a5-4c94acd1cd9b', address='3286 Maple Blvd, Phoenix', assets_value=168727.34, first_name='Michael', last_name='Garcia', purchase_amount_per_day=868.08, salary=6211.16),\n",
       " Row(customer_id='c085f64c-a96f-4a93-8ff1-f7554f12760c', address='8300 Elm St, Chicago', assets_value=631782.27, first_name='Olivia', last_name='Taylor', purchase_amount_per_day=651.27, salary=9981.72)]"
      ]
     },
     "execution_count": 12,
     "metadata": {},
     "output_type": "execute_result"
    }
   ],
   "source": [
    "df.head(3) # Get first 3 rows as a list"
   ]
  },
  {
   "cell_type": "code",
   "execution_count": 13,
   "id": "ba526131-c474-4589-b15c-329357c6872d",
   "metadata": {},
   "outputs": [
    {
     "name": "stdout",
     "output_type": "stream",
     "text": [
      "+-------+--------------------+--------------------+-----------------+----------+---------+-----------------------+------------------+\n",
      "|summary|         customer_id|             address|     assets_value|first_name|last_name|purchase_amount_per_day|            salary|\n",
      "+-------+--------------------+--------------------+-----------------+----------+---------+-----------------------+------------------+\n",
      "|  count|                 102|                 102|              102|       102|      102|                    102|               102|\n",
      "|   mean|                NULL|                NULL|501218.3768627451|      NULL|     NULL|      500.7642156862746| 6685.184215686274|\n",
      "| stddev|                NULL|                NULL|283491.6815118589|      NULL|     NULL|     286.29281966710784|2023.7110786626272|\n",
      "|    min|001106b4-eca2-4dd...|1 Pine Ave, Los A...|         15463.39|     Alice|    Brown|                  56.12|            3015.4|\n",
      "|    max|ff28f413-cac2-482...|9849 Maple Blvd, ...|        996535.31|    Sophia| Williams|                 991.79|           9981.72|\n",
      "+-------+--------------------+--------------------+-----------------+----------+---------+-----------------------+------------------+\n",
      "\n"
     ]
    }
   ],
   "source": [
    "df.describe().show() # Summary statistics for numeric columns"
   ]
  },
  {
   "cell_type": "code",
   "execution_count": 14,
   "id": "02dfa186-4b89-4afa-b323-75032fa782b0",
   "metadata": {},
   "outputs": [
    {
     "name": "stdout",
     "output_type": "stream",
     "text": [
      "+--------------------+--------------------+------------+----------+---------+-----------------------+-------+\n",
      "|         customer_id|             address|assets_value|first_name|last_name|purchase_amount_per_day| salary|\n",
      "+--------------------+--------------------+------------+----------+---------+-----------------------+-------+\n",
      "|8489da6b-9076-4e4...|39 Main St, Los A...|    333407.9|     Alice|      Doe|                  137.1|4818.09|\n",
      "|70ad1e44-ca61-477...|2805 Pine Ave, Ne...|    550679.1|     Alice|   Garcia|                 261.33|9444.34|\n",
      "|cb816669-351f-45c...|9633 Elm St, Los ...|    15463.39|     Alice|    Smith|                 600.28|9892.78|\n",
      "|2bb52b82-4f81-421...|935 Main St, Los ...|   445681.62|     Alice| Williams|                 272.24|7320.36|\n",
      "|3953f8c0-4097-41f...|6133 Pine Ave, Ne...|   369825.66|       Bob|  Johnson|                 420.54|9603.33|\n",
      "|e24d89fe-d2d8-44e...|9659 Elm St, New ...|   845708.49|       Bob|    Jones|                 757.81|7329.79|\n",
      "|d5e3cd2b-610b-48f...|9635 Elm St, Houston|   390784.68|       Bob|   Miller|                 898.33|5150.91|\n",
      "|10c2e39b-275b-41d...|9239 Elm St, New ...|   143164.58|       Bob|    Smith|                 917.92|4208.18|\n",
      "|16a9a5f0-2741-4ba...|5605 Pine Ave, Lo...|   857436.38|       Bob|   Taylor|                 969.06|4514.51|\n",
      "|001106b4-eca2-4dd...|1148 Oak St, New ...|   706468.19|   Charlie|    Davis|                 129.05|7840.35|\n",
      "|e4b0aff5-3869-4bd...|9763 Elm St, Chicago|   250843.18|   Charlie|      Doe|                 187.56|4841.27|\n",
      "|1422ae11-9fe4-4cb...|8051 Maple Blvd, ...|   976413.55|   Charlie|   Garcia|                 807.66|5411.79|\n",
      "|48a04704-1533-478...|9564 Pine Ave, Lo...|   722351.04|   Charlie|  Johnson|                 595.13|9520.67|\n",
      "|f23ae908-1329-432...|9566 Pine Ave, Ch...|   354574.77|   Charlie|   Miller|                 789.21|6556.81|\n",
      "|7d63882a-8a97-4f6...|3758 Maple Blvd, ...|    604139.2|   Charlie|    Smith|                 721.08|3778.29|\n",
      "|9fe9abf9-621c-4e2...|5838 Maple Blvd, ...|   319594.85|   Charlie|   Taylor|                 500.79|9187.35|\n",
      "|b9a7cb68-647c-46d...|3243 Maple Blvd, ...|   992926.44|   Charlie| Williams|                 100.57|8110.49|\n",
      "|2779860d-d659-427...|9107 Main St, Chi...|    393769.9|     David|    Brown|                 660.29| 9790.8|\n",
      "|a3014e1b-b287-4ff...|4996 Oak St, Los ...|    688935.4|     David|    Davis|                 402.19|3534.56|\n",
      "|5d0cffdd-e574-4dc...|2580 Maple Blvd, ...|   739123.47|     David|  Johnson|                  92.82|5892.88|\n",
      "+--------------------+--------------------+------------+----------+---------+-----------------------+-------+\n",
      "only showing top 20 rows\n",
      "\n"
     ]
    }
   ],
   "source": [
    "df.dropDuplicates([\"first_name\", \"last_name\"]).show() # Drop duplicate based on subset of columns"
   ]
  },
  {
   "cell_type": "code",
   "execution_count": 15,
   "id": "90d4314a-cd12-47cd-a815-be4032f1de2d",
   "metadata": {},
   "outputs": [
    {
     "name": "stdout",
     "output_type": "stream",
     "text": [
      "+--------------------+--------------------+------------+----------+---------+-----------------------+-------+\n",
      "|         customer_id|             address|assets_value|first_name|last_name|purchase_amount_per_day| salary|\n",
      "+--------------------+--------------------+------------+----------+---------+-----------------------+-------+\n",
      "|cad8919d-6afa-40d...|7065 Main St, Los...|   330486.84|     Alice| Williams|                 555.62|6277.64|\n",
      "|754e9d3c-136d-4c8...|123 Oak St, Los A...|    75236.43|      John|    Jones|                 627.66|8118.38|\n",
      "|3953f8c0-4097-41f...|6133 Pine Ave, Ne...|   369825.66|       Bob|  Johnson|                 420.54|9603.33|\n",
      "|ad347a5c-6c89-4e1...|8983 Oak St, Houston|    674981.9|     Emily|  Johnson|                 746.17|4457.55|\n",
      "|8adc85dd-05f8-494...|9365 Maple Blvd, ...|   604333.54|   Michael|  Johnson|                 666.24| 6445.7|\n",
      "|e2d6a120-444d-436...|5253 Pine Ave, Ph...|   303791.39|     Alice|   Garcia|                 158.91|7383.59|\n",
      "|cb816669-351f-45c...|9633 Elm St, Los ...|    15463.39|     Alice|    Smith|                 600.28|9892.78|\n",
      "|a045bef9-b281-442...|3786 Oak St, Los ...|   744804.54|    Olivia|      Doe|                 199.58|8491.88|\n",
      "|6ab68490-3d3f-4cc...|2248 Maple Blvd, ...|   839865.77|    Olivia| Williams|                 799.24|3323.81|\n",
      "|e2a373c3-01f3-432...|754 Pine Ave, Pho...|   263018.54|   Michael|    Davis|                 207.93|8174.85|\n",
      "|e61a22e1-61a2-489...|1053 Maple Blvd, ...|   880855.27|      Jane| Williams|                 806.14|5915.79|\n",
      "|549324a6-37fd-48b...|2433 Oak St, Phoenix|   501835.93|    Olivia|    Davis|                 502.94|5618.59|\n",
      "+--------------------+--------------------+------------+----------+---------+-----------------------+-------+\n",
      "\n"
     ]
    }
   ],
   "source": [
    "df.sample(fraction=0.1, seed=42).show() # Sample 10% of data"
   ]
  },
  {
   "cell_type": "code",
   "execution_count": 16,
   "id": "e63587a4-96fa-40f4-9984-4d4a748942e0",
   "metadata": {},
   "outputs": [
    {
     "name": "stdout",
     "output_type": "stream",
     "text": [
      "+------------------+\n",
      "|     annual_salary|\n",
      "+------------------+\n",
      "|          97420.56|\n",
      "|115239.95999999999|\n",
      "| 86936.04000000001|\n",
      "|100959.59999999999|\n",
      "|          74533.92|\n",
      "+------------------+\n",
      "only showing top 5 rows\n",
      "\n"
     ]
    }
   ],
   "source": [
    "df.selectExpr(\"salary * 12 as annual_salary\").show(5) # Use SQL expression in select"
   ]
  },
  {
   "cell_type": "code",
   "execution_count": 17,
   "id": "6d8a8064-5995-4931-92fd-192af40aa473",
   "metadata": {},
   "outputs": [
    {
     "name": "stdout",
     "output_type": "stream",
     "text": [
      "+-------+------------------+\n",
      "|summary|      assets_value|\n",
      "+-------+------------------+\n",
      "|  count|               102|\n",
      "|   mean| 501218.3768627451|\n",
      "| stddev|283491.68151185894|\n",
      "|    min|          15463.39|\n",
      "|    max|         996535.31|\n",
      "+-------+------------------+\n",
      "\n"
     ]
    }
   ],
   "source": [
    "df.describe(\"assets_value\").show() # Summary stats on one column"
   ]
  },
  {
   "cell_type": "code",
   "execution_count": 18,
   "id": "1af50b8d-17d4-48cc-825d-3a89d79f7f7b",
   "metadata": {},
   "outputs": [
    {
     "name": "stdout",
     "output_type": "stream",
     "text": [
      "+-------+--------------------+--------------------+------------+----------+---------+-----------------------+-------+\n",
      "|summary|         customer_id|             address|assets_value|first_name|last_name|purchase_amount_per_day| salary|\n",
      "+-------+--------------------+--------------------+------------+----------+---------+-----------------------+-------+\n",
      "|    min|001106b4-eca2-4dd...|1 Pine Ave, Los A...|    15463.39|     Alice|    Brown|                  56.12| 3015.4|\n",
      "|    max|ff28f413-cac2-482...|9849 Maple Blvd, ...|   996535.31|    Sophia| Williams|                 991.79|9981.72|\n",
      "+-------+--------------------+--------------------+------------+----------+---------+-----------------------+-------+\n",
      "\n"
     ]
    }
   ],
   "source": [
    "df.summary(\"min\", \"max\").show() # Min and max values"
   ]
  },
  {
   "cell_type": "code",
   "execution_count": 19,
   "id": "24bb9e0f-0683-4b8f-8f4e-c47738407d18",
   "metadata": {},
   "outputs": [
    {
     "name": "stdout",
     "output_type": "stream",
     "text": [
      "+--------------------+--------------------+------------+----------+---------+-----------------------+-------+\n",
      "|         customer_id|             address|assets_value|first_name|last_name|purchase_amount_per_day| salary|\n",
      "+--------------------+--------------------+------------+----------+---------+-----------------------+-------+\n",
      "|b9a7cb68-647c-46d...|3243 Maple Blvd, ...|   992926.44|   Charlie| Williams|                 100.57|8110.49|\n",
      "|e2a373c3-01f3-432...|754 Pine Ave, Pho...|   263018.54|   Michael|    Davis|                 207.93|8174.85|\n",
      "|faad8779-32f1-4f7...|9757 Elm St, New ...|   675012.21|   Charlie| Williams|                  95.01| 9966.1|\n",
      "|a045bef9-b281-442...|3786 Oak St, Los ...|   744804.54|    Olivia|      Doe|                 199.58|8491.88|\n",
      "|5c18aff6-5c5a-4a8...|3902 Oak St, New ...|   314844.16|    Olivia|    Brown|                 170.57|9021.98|\n",
      "+--------------------+--------------------+------------+----------+---------+-----------------------+-------+\n",
      "only showing top 5 rows\n",
      "\n"
     ]
    }
   ],
   "source": [
    "df.filter(df.salary > 8000).show(5) # Filter salary > 8000"
   ]
  },
  {
   "cell_type": "code",
   "execution_count": 20,
   "id": "61b0c55a-5680-4668-95f2-45a0f777a7e6",
   "metadata": {},
   "outputs": [
    {
     "name": "stdout",
     "output_type": "stream",
     "text": [
      "+--------------------+--------------------+------------+----------+---------+-----------------------+-------+\n",
      "|         customer_id|             address|assets_value|first_name|last_name|purchase_amount_per_day| salary|\n",
      "+--------------------+--------------------+------------+----------+---------+-----------------------+-------+\n",
      "|10c2e39b-275b-41d...|9239 Elm St, New ...|   143164.58|       Bob|    Smith|                 917.92|4208.18|\n",
      "|cb816669-351f-45c...|9633 Elm St, Los ...|    15463.39|     Alice|    Smith|                 600.28|9892.78|\n",
      "|56a19b3d-1b9b-441...|1541 Maple Blvd, ...|   189084.84|   Michael|    Smith|                 932.98|9559.29|\n",
      "|de040c86-0422-4f7...|7840 Main St, New...|   111917.41|     Emily|    Smith|                 569.39|7307.63|\n",
      "|1125910a-60ba-481...|8495 Main St, Pho...|   696736.52|     Emily|    Smith|                 253.62|8470.16|\n",
      "+--------------------+--------------------+------------+----------+---------+-----------------------+-------+\n",
      "only showing top 5 rows\n",
      "\n"
     ]
    }
   ],
   "source": [
    "df.where(df.last_name == \"Smith\").show(5) # Filter with where"
   ]
  },
  {
   "cell_type": "code",
   "execution_count": 21,
   "id": "33f97066-0f71-44fb-9c51-0c91f6c8655e",
   "metadata": {},
   "outputs": [
    {
     "name": "stdout",
     "output_type": "stream",
     "text": [
      "+----------+-------+\n",
      "|first_name| salary|\n",
      "+----------+-------+\n",
      "|    Olivia|9981.72|\n",
      "|   Charlie| 9966.1|\n",
      "|      John|9913.39|\n",
      "|     Alice|9892.78|\n",
      "|     David| 9790.8|\n",
      "+----------+-------+\n",
      "only showing top 5 rows\n",
      "\n"
     ]
    }
   ],
   "source": [
    "df.select(\"first_name\", \"salary\").orderBy(\"salary\", ascending=False).show(5) # Sort descending by salary"
   ]
  },
  {
   "cell_type": "code",
   "execution_count": 22,
   "id": "dadc8596-875e-4060-88f2-fb5c8f7f2f71",
   "metadata": {},
   "outputs": [
    {
     "name": "stdout",
     "output_type": "stream",
     "text": [
      "+--------------------+--------------------+------------+----------+---------+-----------------------+-------+\n",
      "|         customer_id|             address|assets_value|first_name|last_name|purchase_amount_per_day| salary|\n",
      "+--------------------+--------------------+------------+----------+---------+-----------------------+-------+\n",
      "|c0d0534a-cd6e-47a...|5060 Elm St, New ...|   675089.59|      John| Williams|                 941.71| 8413.3|\n",
      "|7a119254-fa90-46e...|3286 Maple Blvd, ...|   168727.34|   Michael|   Garcia|                 868.08|6211.16|\n",
      "|c085f64c-a96f-4a9...|8300 Elm St, Chicago|   631782.27|    Olivia|   Taylor|                 651.27|9981.72|\n",
      "|001106b4-eca2-4dd...|1148 Oak St, New ...|   706468.19|   Charlie|    Davis|                 129.05|7840.35|\n",
      "|9f7b6f23-c923-4c2...|8604 Maple Blvd, ...|   968805.16|    Olivia|    Davis|                 604.93| 5145.2|\n",
      "|70ad1e44-ca61-477...|2805 Pine Ave, Ne...|    550679.1|     Alice|   Garcia|                 261.33|9444.34|\n",
      "|5710091b-afb0-47c...|8214 Oak St, Los ...|   376176.71|      Jane|   Miller|                  877.4|6027.39|\n",
      "|a3bd7c9e-1956-489...|1156 Pine Ave, Ne...|   145990.58|      John|   Taylor|                  61.99|4767.53|\n",
      "|c4fddbb3-d88a-4af...|9271 Oak St, Los ...|   535327.35|      Jane|   Taylor|                 813.89| 4997.5|\n",
      "|5f7dddd9-7486-435...|7953 Oak St, Phoenix|   257875.56|      John|    Brown|                 745.43|9664.46|\n",
      "+--------------------+--------------------+------------+----------+---------+-----------------------+-------+\n",
      "\n"
     ]
    }
   ],
   "source": [
    "df.limit(10).show() # Limit number of rows"
   ]
  },
  {
   "cell_type": "markdown",
   "id": "2207d3e8-4814-40cf-bdd2-d986b3b2988b",
   "metadata": {},
   "source": [
    "# Column Operations and Transformations"
   ]
  },
  {
   "cell_type": "code",
   "execution_count": 23,
   "id": "4a7e0534-fb92-41e9-afe3-8069b73e45a4",
   "metadata": {},
   "outputs": [
    {
     "name": "stdout",
     "output_type": "stream",
     "text": [
      "+--------------------+--------------------+------------+----------+---------+-----------------------+-------+------------------+\n",
      "|         customer_id|             address|assets_value|first_name|last_name|purchase_amount_per_day| salary|     annual_salary|\n",
      "+--------------------+--------------------+------------+----------+---------+-----------------------+-------+------------------+\n",
      "|754e9d3c-136d-4c8...|123 Oak St, Los A...|    75236.43|      John|    Jones|                 627.66|8118.38|          97420.56|\n",
      "|3953f8c0-4097-41f...|6133 Pine Ave, Ne...|   369825.66|       Bob|  Johnson|                 420.54|9603.33|115239.95999999999|\n",
      "|02387a88-eeb1-48c...|4217 Pine Ave, Ph...|    689558.9|   Michael|    Smith|                 817.96|7244.67| 86936.04000000001|\n",
      "|1125910a-60ba-481...|8495 Main St, Pho...|   696736.52|     Emily|    Smith|                 253.62|8470.16|         101641.92|\n",
      "|1011d0c2-2e47-43a...|3108 Oak St, Los ...|   655369.65|    Olivia|      Doe|                 481.71|9708.16|         116497.92|\n",
      "+--------------------+--------------------+------------+----------+---------+-----------------------+-------+------------------+\n",
      "only showing top 5 rows\n",
      "\n"
     ]
    }
   ],
   "source": [
    "df.withColumn(\"annual_salary\", df.salary * 12).show(5) # Add new column"
   ]
  },
  {
   "cell_type": "code",
   "execution_count": 24,
   "id": "d855cca1-b4e5-44bc-89f1-636c69a639a9",
   "metadata": {},
   "outputs": [
    {
     "name": "stdout",
     "output_type": "stream",
     "text": [
      "+--------------------+--------------------+------------+----------+---------+-----------------------+--------------+\n",
      "|         customer_id|             address|assets_value|first_name|last_name|purchase_amount_per_day|monthly_salary|\n",
      "+--------------------+--------------------+------------+----------+---------+-----------------------+--------------+\n",
      "|cc1e1429-acb8-43c...|6315 Pine Ave, Ph...|    777854.3|   Michael|   Miller|                 172.94|       8292.36|\n",
      "|10c2e39b-275b-41d...|9239 Elm St, New ...|   143164.58|       Bob|    Smith|                 917.92|       4208.18|\n",
      "|5d0cffdd-e574-4dc...|2580 Maple Blvd, ...|   739123.47|     David|  Johnson|                  92.82|       5892.88|\n",
      "|72b38361-62f4-4d4...|7077 Oak St, New ...|   853211.33|     Alice|    Smith|                 315.69|       6224.15|\n",
      "|e2d6a120-444d-436...|5253 Pine Ave, Ph...|   303791.39|     Alice|   Garcia|                 158.91|       7383.59|\n",
      "+--------------------+--------------------+------------+----------+---------+-----------------------+--------------+\n",
      "only showing top 5 rows\n",
      "\n"
     ]
    }
   ],
   "source": [
    "df.withColumnRenamed(\"salary\", \"monthly_salary\").show(5) # Rename column"
   ]
  },
  {
   "cell_type": "code",
   "execution_count": 25,
   "id": "8643e781-b5eb-457a-9d07-383666733608",
   "metadata": {},
   "outputs": [
    {
     "name": "stdout",
     "output_type": "stream",
     "text": [
      "+--------------------+--------------------+------------+----------+---------+-----------------------+-------+--------------+\n",
      "|         customer_id|             address|assets_value|first_name|last_name|purchase_amount_per_day| salary|     full_name|\n",
      "+--------------------+--------------------+------------+----------+---------+-----------------------+-------+--------------+\n",
      "|9fe9abf9-621c-4e2...|5838 Maple Blvd, ...|   319594.85|   Charlie|   Taylor|                 500.79|9187.35|Charlie Taylor|\n",
      "|a513c743-502e-475...|4011 Oak St, Houston|   466080.95|      John|   Taylor|                 386.43| 7936.1|   John Taylor|\n",
      "|63c6073c-8af1-414...|2675 Elm St, Los ...|    63886.02|   Michael|    Brown|                 519.86|3746.47| Michael Brown|\n",
      "|a3014e1b-b287-4ff...|4996 Oak St, Los ...|    688935.4|     David|    Davis|                 402.19|3534.56|   David Davis|\n",
      "|96a0695c-f890-49e...|3552 Oak St, New ...|    427849.7|   Michael|    Smith|                 197.41|7084.36| Michael Smith|\n",
      "+--------------------+--------------------+------------+----------+---------+-----------------------+-------+--------------+\n",
      "only showing top 5 rows\n",
      "\n"
     ]
    }
   ],
   "source": [
    "from pyspark.sql import functions as F\n",
    "\n",
    "df.withColumn(\"full_name\", F.concat_ws(\" \", df.first_name, df.last_name)).show(5) # Concatenate columns"
   ]
  },
  {
   "cell_type": "code",
   "execution_count": 26,
   "id": "b593f718-63d4-4606-8d08-2fa15a25ef93",
   "metadata": {},
   "outputs": [
    {
     "name": "stdout",
     "output_type": "stream",
     "text": [
      "+--------------------+--------------------+------------+----------+---------+-----------------------+-------+--------------+\n",
      "|         customer_id|             address|assets_value|first_name|last_name|purchase_amount_per_day| salary|salary_rounded|\n",
      "+--------------------+--------------------+------------+----------+---------+-----------------------+-------+--------------+\n",
      "|a045bef9-b281-442...|3786 Oak St, Los ...|   744804.54|    Olivia|      Doe|                 199.58|8491.88|        8492.0|\n",
      "|5c18aff6-5c5a-4a8...|3902 Oak St, New ...|   314844.16|    Olivia|    Brown|                 170.57|9021.98|        9022.0|\n",
      "|48a04704-1533-478...|9564 Pine Ave, Lo...|   722351.04|   Charlie|  Johnson|                 595.13|9520.67|        9521.0|\n",
      "|d652f7b4-2c5c-4ea...|9849 Maple Blvd, ...|   343330.21|      Jane|   Taylor|                  984.3|5051.17|        5051.0|\n",
      "|6ab68490-3d3f-4cc...|2248 Maple Blvd, ...|   839865.77|    Olivia| Williams|                 799.24|3323.81|        3324.0|\n",
      "+--------------------+--------------------+------------+----------+---------+-----------------------+-------+--------------+\n",
      "only showing top 5 rows\n",
      "\n"
     ]
    }
   ],
   "source": [
    "df.withColumn(\"salary_rounded\", F.round(df.salary, 0)).show(5) # Round salary"
   ]
  },
  {
   "cell_type": "code",
   "execution_count": 27,
   "id": "4146d458-b3e3-4450-bd0c-e38cd3ea2851",
   "metadata": {},
   "outputs": [
    {
     "name": "stdout",
     "output_type": "stream",
     "text": [
      "+--------------------+--------------------+------------+----------+---------+-----------------------+-------+-----------------+\n",
      "|         customer_id|             address|assets_value|first_name|last_name|purchase_amount_per_day| salary|       salary_log|\n",
      "+--------------------+--------------------+------------+----------+---------+-----------------------+-------+-----------------+\n",
      "|cb816669-351f-45c...|9633 Elm St, Los ...|    15463.39|     Alice|    Smith|                 600.28|9892.78|9.199560477129934|\n",
      "|e99c1388-5df9-47e...|2464 Maple Blvd, ...|   380513.02|    Olivia| Williams|                 129.38|9339.43|9.142000501523356|\n",
      "|5051db98-429b-4c2...|1 Pine Ave, Los A...|    81176.79|   Michael|   Garcia|                 715.95|5502.64|8.612983256057413|\n",
      "|09584401-2cc3-475...|4643 Maple Blvd, ...|   262846.98|     Emily|    Davis|                 441.69|9517.67|9.160905349930596|\n",
      "|e694f6de-ea3d-40b...|361 Oak St, New York|   762254.45|      John| Williams|                 342.36|7652.29|8.942760228430615|\n",
      "+--------------------+--------------------+------------+----------+---------+-----------------------+-------+-----------------+\n",
      "only showing top 5 rows\n",
      "\n"
     ]
    }
   ],
   "source": [
    "df.withColumn(\"salary_log\", F.log(df.salary)).show(5) # Log transform"
   ]
  },
  {
   "cell_type": "code",
   "execution_count": 28,
   "id": "5906348e-f9e7-4814-9368-228e15556816",
   "metadata": {},
   "outputs": [
    {
     "name": "stdout",
     "output_type": "stream",
     "text": [
      "+----------+-------+\n",
      "|first_name| salary|\n",
      "+----------+-------+\n",
      "|   Michael|5282.38|\n",
      "|     Emily|8120.14|\n",
      "|     Emily|4513.49|\n",
      "|     David| 9790.8|\n",
      "|       Bob|4514.51|\n",
      "|    Sophia| 4210.6|\n",
      "|   Charlie|5411.79|\n",
      "|      John|4762.98|\n",
      "|     David|8756.06|\n",
      "|   Charlie|3778.29|\n",
      "|     David|4997.36|\n",
      "|    Sophia|6099.39|\n",
      "|   Charlie|7916.72|\n",
      "|     Emily|8704.96|\n",
      "|    Sophia|7837.73|\n",
      "|   Charlie|6556.81|\n",
      "|      Jane|9519.42|\n",
      "|    Olivia|4716.79|\n",
      "|       Bob|5150.91|\n",
      "|     Emily|7307.63|\n",
      "+----------+-------+\n",
      "only showing top 20 rows\n",
      "\n"
     ]
    }
   ],
   "source": [
    "df.select(\"first_name\", \"salary\").distinct().show() # Unique first name-salary combos"
   ]
  },
  {
   "cell_type": "code",
   "execution_count": 29,
   "id": "40342e1f-c1d2-45eb-b156-dcb000d9f1d4",
   "metadata": {},
   "outputs": [
    {
     "name": "stdout",
     "output_type": "stream",
     "text": [
      "+--------------------+--------------------+------------+----------+---------+-----------------------+-------+\n",
      "|         customer_id|             address|assets_value|first_name|last_name|purchase_amount_per_day| salary|\n",
      "+--------------------+--------------------+------------+----------+---------+-----------------------+-------+\n",
      "|c0d0534a-cd6e-47a...|5060 Elm St, New ...|   675089.59|      John| Williams|                 941.71| 8413.3|\n",
      "|7a119254-fa90-46e...|3286 Maple Blvd, ...|   168727.34|   Michael|   Garcia|                 868.08|6211.16|\n",
      "|c085f64c-a96f-4a9...|8300 Elm St, Chicago|   631782.27|    Olivia|   Taylor|                 651.27|9981.72|\n",
      "|001106b4-eca2-4dd...|1148 Oak St, New ...|   706468.19|   Charlie|    Davis|                 129.05|7840.35|\n",
      "|9f7b6f23-c923-4c2...|8604 Maple Blvd, ...|   968805.16|    Olivia|    Davis|                 604.93| 5145.2|\n",
      "+--------------------+--------------------+------------+----------+---------+-----------------------+-------+\n",
      "only showing top 5 rows\n",
      "\n"
     ]
    }
   ],
   "source": [
    "df.filter(F.col(\"assets_value\") > 100000).show(5) # Filter assets_value"
   ]
  },
  {
   "cell_type": "code",
   "execution_count": 30,
   "id": "003b7f11-546c-4872-a620-1c53fded05b7",
   "metadata": {},
   "outputs": [
    {
     "name": "stdout",
     "output_type": "stream",
     "text": [
      "+--------------------+--------------------+------------+----------+---------+-----------------------+-------+\n",
      "|         customer_id|             address|assets_value|first_name|last_name|purchase_amount_per_day| salary|\n",
      "+--------------------+--------------------+------------+----------+---------+-----------------------+-------+\n",
      "|10c2e39b-275b-41d...|9239 Elm St, New ...|   143164.58|       Bob|    Smith|                 917.92|4208.18|\n",
      "|3953f8c0-4097-41f...|6133 Pine Ave, Ne...|   369825.66|       Bob|  Johnson|                 420.54|9603.33|\n",
      "|d5e3cd2b-610b-48f...|9635 Elm St, Houston|   390784.68|       Bob|   Miller|                 898.33|5150.91|\n",
      "|16a9a5f0-2741-4ba...|5605 Pine Ave, Lo...|   857436.38|       Bob|   Taylor|                 969.06|4514.51|\n",
      "|e24d89fe-d2d8-44e...|9659 Elm St, New ...|   845708.49|       Bob|    Jones|                 757.81|7329.79|\n",
      "+--------------------+--------------------+------------+----------+---------+-----------------------+-------+\n",
      "\n"
     ]
    }
   ],
   "source": [
    "df.filter(F.col(\"first_name\").isin(\"Bob\")).show() # Filter with isin"
   ]
  },
  {
   "cell_type": "code",
   "execution_count": 31,
   "id": "e283d4bb-a314-4349-98f2-6f507b9585cd",
   "metadata": {},
   "outputs": [
    {
     "name": "stdout",
     "output_type": "stream",
     "text": [
      "+--------------------+--------------------+------------+----------+---------+-----------------------+-------+--------------+\n",
      "|         customer_id|             address|assets_value|first_name|last_name|purchase_amount_per_day| salary|is_high_salary|\n",
      "+--------------------+--------------------+------------+----------+---------+-----------------------+-------+--------------+\n",
      "|c0d0534a-cd6e-47a...|5060 Elm St, New ...|   675089.59|      John| Williams|                 941.71| 8413.3|          true|\n",
      "|7a119254-fa90-46e...|3286 Maple Blvd, ...|   168727.34|   Michael|   Garcia|                 868.08|6211.16|         false|\n",
      "|c085f64c-a96f-4a9...|8300 Elm St, Chicago|   631782.27|    Olivia|   Taylor|                 651.27|9981.72|          true|\n",
      "|001106b4-eca2-4dd...|1148 Oak St, New ...|   706468.19|   Charlie|    Davis|                 129.05|7840.35|         false|\n",
      "|9f7b6f23-c923-4c2...|8604 Maple Blvd, ...|   968805.16|    Olivia|    Davis|                 604.93| 5145.2|         false|\n",
      "+--------------------+--------------------+------------+----------+---------+-----------------------+-------+--------------+\n",
      "only showing top 5 rows\n",
      "\n"
     ]
    }
   ],
   "source": [
    "df.withColumn(\"is_high_salary\", F.when(df.salary > 8000, True).otherwise(False)).show(5)"
   ]
  },
  {
   "cell_type": "code",
   "execution_count": 32,
   "id": "da58634c-1947-4075-92ff-f7f51d5d418c",
   "metadata": {},
   "outputs": [
    {
     "name": "stdout",
     "output_type": "stream",
     "text": [
      "+-------------------------+\n",
      "|count(DISTINCT last_name)|\n",
      "+-------------------------+\n",
      "|                       10|\n",
      "+-------------------------+\n",
      "\n"
     ]
    }
   ],
   "source": [
    "df.select(F.countDistinct(\"last_name\")).show() # Count distinct last names"
   ]
  },
  {
   "cell_type": "code",
   "execution_count": 33,
   "id": "73b2b4ce-bcd8-4c9a-b3b6-b1930ad68e3a",
   "metadata": {},
   "outputs": [
    {
     "name": "stdout",
     "output_type": "stream",
     "text": [
      "+-----------------+-----------+-----------+\n",
      "|      avg(salary)|min(salary)|max(salary)|\n",
      "+-----------------+-----------+-----------+\n",
      "|6685.184215686274|     3015.4|    9981.72|\n",
      "+-----------------+-----------+-----------+\n",
      "\n"
     ]
    }
   ],
   "source": [
    "df.select(F.mean(\"salary\"), F.min(\"salary\"), F.max(\"salary\")).show() # Mean, min, max"
   ]
  },
  {
   "cell_type": "code",
   "execution_count": 34,
   "id": "dbcbcf2b-5d43-42d4-b4c5-33ad2d0a4206",
   "metadata": {},
   "outputs": [
    {
     "name": "stdout",
     "output_type": "stream",
     "text": [
      "+--------------------+--------------------+------------+----------+---------+-----------------------+-------+-----------+\n",
      "|         customer_id|             address|assets_value|first_name|last_name|purchase_amount_per_day| salary|salary_in_k|\n",
      "+--------------------+--------------------+------------+----------+---------+-----------------------+-------+-----------+\n",
      "|1125910a-60ba-481...|8495 Main St, Pho...|   696736.52|     Emily|    Smith|                 253.62|8470.16|    8.47016|\n",
      "|1011d0c2-2e47-43a...|3108 Oak St, Los ...|   655369.65|    Olivia|      Doe|                 481.71|9708.16|    9.70816|\n",
      "|d920e993-7616-41c...|4517 Pine Ave, Ch...|   159208.98|    Sophia| Williams|                 864.96|5307.29|    5.30729|\n",
      "|18f478a5-2b59-4b2...|6367 Main St, Pho...|   607651.75|     Emily| Williams|                 755.51|6815.21|    6.81521|\n",
      "|86d99ab8-3f72-4fe...|725 Main St, Los ...|   505158.31|    Sophia|    Smith|                 918.66|7464.95|    7.46495|\n",
      "+--------------------+--------------------+------------+----------+---------+-----------------------+-------+-----------+\n",
      "only showing top 5 rows\n",
      "\n"
     ]
    }
   ],
   "source": [
    "df.withColumn(\"salary_in_k\", df.salary / 1000).show(5)"
   ]
  },
  {
   "cell_type": "code",
   "execution_count": 35,
   "id": "6e0c85cf-39aa-4589-b70a-99706cd2a7d0",
   "metadata": {},
   "outputs": [
    {
     "name": "stdout",
     "output_type": "stream",
     "text": [
      "+--------------------+--------------------+------------+----------+---------+-----------------------+-------+------------------+\n",
      "|         customer_id|             address|assets_value|first_name|last_name|purchase_amount_per_day| salary|salary_plus_assets|\n",
      "+--------------------+--------------------+------------+----------+---------+-----------------------+-------+------------------+\n",
      "|5d0cffdd-e574-4dc...|2580 Maple Blvd, ...|   739123.47|     David|  Johnson|                  92.82|5892.88|         745016.35|\n",
      "|72b38361-62f4-4d4...|7077 Oak St, New ...|   853211.33|     Alice|    Smith|                 315.69|6224.15|         859435.48|\n",
      "|e2d6a120-444d-436...|5253 Pine Ave, Ph...|   303791.39|     Alice|   Garcia|                 158.91|7383.59|311174.98000000004|\n",
      "|6974cc7e-74ab-4d1...|1522 Main St, New...|    63885.36|   Michael| Williams|                 854.13|6239.42|          70124.78|\n",
      "|39aa710c-7451-4c6...|8494 Oak St, Phoenix|    44695.27|     David|    Davis|                 991.79|5855.41| 50550.67999999999|\n",
      "+--------------------+--------------------+------------+----------+---------+-----------------------+-------+------------------+\n",
      "only showing top 5 rows\n",
      "\n"
     ]
    }
   ],
   "source": [
    "df.withColumn(\"salary_plus_assets\", df.salary + df.assets_value).show(5)"
   ]
  },
  {
   "cell_type": "markdown",
   "id": "4a67809b-0462-48f4-9991-343932425fc7",
   "metadata": {},
   "source": [
    "# Aggregations and GroupBy"
   ]
  },
  {
   "cell_type": "code",
   "execution_count": 36,
   "id": "2f21670a-066e-49b2-bfa5-6b7ec329707c",
   "metadata": {},
   "outputs": [
    {
     "name": "stdout",
     "output_type": "stream",
     "text": [
      "+---------+-----+\n",
      "|last_name|count|\n",
      "+---------+-----+\n",
      "|    Jones|    4|\n",
      "|    Smith|   14|\n",
      "|  Johnson|    7|\n",
      "|    Davis|   12|\n",
      "| Williams|   19|\n",
      "|   Garcia|    9|\n",
      "|    Brown|   11|\n",
      "|   Miller|    7|\n",
      "|      Doe|    7|\n",
      "|   Taylor|   12|\n",
      "+---------+-----+\n",
      "\n"
     ]
    }
   ],
   "source": [
    "df.groupBy(\"last_name\").count().show() # Count per last name"
   ]
  },
  {
   "cell_type": "code",
   "execution_count": 37,
   "id": "c479f7e9-e52e-485d-b7a3-23ab43a5154a",
   "metadata": {},
   "outputs": [
    {
     "name": "stdout",
     "output_type": "stream",
     "text": [
      "+---------+------------------+\n",
      "|last_name|        avg_salary|\n",
      "+---------+------------------+\n",
      "|    Davis| 6283.194999999999|\n",
      "| Williams| 6712.712105263157|\n",
      "|   Miller|           7115.67|\n",
      "|   Garcia| 6194.517777777778|\n",
      "|  Johnson| 7202.782857142857|\n",
      "|   Taylor|          6485.335|\n",
      "|    Jones| 6269.030000000001|\n",
      "|    Smith|6827.2357142857145|\n",
      "|      Doe| 6905.512857142857|\n",
      "|    Brown| 6922.641818181818|\n",
      "+---------+------------------+\n",
      "\n"
     ]
    }
   ],
   "source": [
    "df.groupBy(\"last_name\").agg(F.avg(\"salary\").alias(\"avg_salary\")).show()"
   ]
  },
  {
   "cell_type": "code",
   "execution_count": 38,
   "id": "fe215667-c430-4fc7-b354-df706047736e",
   "metadata": {},
   "outputs": [
    {
     "name": "stdout",
     "output_type": "stream",
     "text": [
      "+---------+----------+----------------------------+\n",
      "|last_name|first_name|sum(purchase_amount_per_day)|\n",
      "+---------+----------+----------------------------+\n",
      "|  Johnson|    Olivia|                      665.29|\n",
      "|   Miller|     David|          1122.1100000000001|\n",
      "|    Davis|   Michael|           513.6800000000001|\n",
      "| Williams|     Emily|                     1542.74|\n",
      "|   Garcia|     Emily|                     1396.78|\n",
      "|   Taylor|      Jane|                     1937.87|\n",
      "|   Taylor|      John|                      448.42|\n",
      "|    Brown|      John|          1711.5299999999997|\n",
      "|  Johnson|   Michael|                      666.24|\n",
      "|      Doe|   Charlie|                      187.56|\n",
      "|    Davis|      John|                      153.21|\n",
      "|    Smith|   Charlie|                      1564.5|\n",
      "|    Brown|   Michael|                      764.65|\n",
      "|    Davis|      Jane|                      675.28|\n",
      "|    Smith|   Michael|          1948.3500000000001|\n",
      "|    Davis|     David|                     1393.98|\n",
      "| Williams|      John|          1284.0700000000002|\n",
      "|   Garcia|   Michael|          1584.0300000000002|\n",
      "|    Davis|    Olivia|                     1107.87|\n",
      "|   Garcia|     Alice|          1411.8500000000001|\n",
      "+---------+----------+----------------------------+\n",
      "only showing top 20 rows\n",
      "\n"
     ]
    }
   ],
   "source": [
    "df.groupBy(\"last_name\", \"first_name\").agg(F.sum(\"purchase_amount_per_day\")).show()"
   ]
  },
  {
   "cell_type": "markdown",
   "id": "593cb4ec-39b1-47c9-94bd-5586a2b9efcc",
   "metadata": {},
   "source": [
    "# Window Functions"
   ]
  },
  {
   "cell_type": "code",
   "execution_count": 39,
   "id": "af4fbc13-5623-4da5-a782-0ba5401d62df",
   "metadata": {},
   "outputs": [
    {
     "name": "stdout",
     "output_type": "stream",
     "text": [
      "+--------------------+--------------------+------------+----------+---------+-----------------------+-------+----+\n",
      "|         customer_id|             address|assets_value|first_name|last_name|purchase_amount_per_day| salary|rank|\n",
      "+--------------------+--------------------+------------+----------+---------+-----------------------+-------+----+\n",
      "|1f3fcf8a-d218-45c...|295 Maple Blvd, N...|   328067.91|      John|    Brown|                 236.42|9913.39|   1|\n",
      "|2779860d-d659-427...|9107 Main St, Chi...|    393769.9|     David|    Brown|                 660.29| 9790.8|   2|\n",
      "|5f7dddd9-7486-435...|7953 Oak St, Phoenix|   257875.56|      John|    Brown|                 745.43|9664.46|   3|\n",
      "|2c038c58-4074-461...|1441 Pine Ave, Ph...|    35767.32|     David|    Brown|                  708.3|9131.28|   4|\n",
      "|5c18aff6-5c5a-4a8...|3902 Oak St, New ...|   314844.16|    Olivia|    Brown|                 170.57|9021.98|   5|\n",
      "|6a35e9e0-59cf-4f9...|5050 Main St, New...|   930475.79|      Jane|    Brown|                 269.66|5771.22|   6|\n",
      "|0fb80c1c-901c-480...|9316 Pine Ave, Lo...|   452172.58|   Michael|    Brown|                 244.79|5282.38|   7|\n",
      "|47150df6-af41-434...|5968 Oak St, Los ...|   301249.79|      John|    Brown|                 729.68|4762.98|   8|\n",
      "|0ae62535-bb04-443...|8336 Pine Ave, Lo...|     45218.1|      Jane|    Brown|                 494.71|4550.61|   9|\n",
      "|2bb56d74-6e87-41a...|2273 Main St, Chi...|    95015.11|     Emily|    Brown|                  56.12|4513.49|  10|\n",
      "+--------------------+--------------------+------------+----------+---------+-----------------------+-------+----+\n",
      "only showing top 10 rows\n",
      "\n"
     ]
    }
   ],
   "source": [
    "from pyspark.sql.window import Window\n",
    "window_spec = Window.partitionBy(\"last_name\").orderBy(F.desc(\"salary\"))\n",
    "df.withColumn(\"rank\", F.rank().over(window_spec)).show(10)"
   ]
  },
  {
   "cell_type": "code",
   "execution_count": 40,
   "id": "298c1734-194c-4e7a-bdec-b46ff02626c5",
   "metadata": {},
   "outputs": [
    {
     "name": "stdout",
     "output_type": "stream",
     "text": [
      "+--------------------+--------------------+------------+----------+---------+-----------------------+-------+------------------+\n",
      "|         customer_id|             address|assets_value|first_name|last_name|purchase_amount_per_day| salary|avg_salary_by_last|\n",
      "+--------------------+--------------------+------------+----------+---------+-----------------------+-------+------------------+\n",
      "|5f7dddd9-7486-435...|7953 Oak St, Phoenix|   257875.56|      John|    Brown|                 745.43|9664.46| 6922.641818181818|\n",
      "|2779860d-d659-427...|9107 Main St, Chi...|    393769.9|     David|    Brown|                 660.29| 9790.8| 6922.641818181818|\n",
      "|2bb56d74-6e87-41a...|2273 Main St, Chi...|    95015.11|     Emily|    Brown|                  56.12|4513.49| 6922.641818181818|\n",
      "|0fb80c1c-901c-480...|9316 Pine Ave, Lo...|   452172.58|   Michael|    Brown|                 244.79|5282.38| 6922.641818181818|\n",
      "|63c6073c-8af1-414...|2675 Elm St, Los ...|    63886.02|   Michael|    Brown|                 519.86|3746.47| 6922.641818181818|\n",
      "+--------------------+--------------------+------------+----------+---------+-----------------------+-------+------------------+\n",
      "only showing top 5 rows\n",
      "\n"
     ]
    }
   ],
   "source": [
    "df.withColumn(\"avg_salary_by_last\", F.avg(\"salary\").over(Window.partitionBy(\"last_name\"))).show(5)\n",
    "# Average salary per last name  "
   ]
  },
  {
   "cell_type": "code",
   "execution_count": 41,
   "id": "c916c977-d3a7-46b9-bafb-0890638287e8",
   "metadata": {},
   "outputs": [
    {
     "name": "stdout",
     "output_type": "stream",
     "text": [
      "+--------------------+--------------------+------------+----------+---------+-----------------------+-------+-------------------+\n",
      "|         customer_id|             address|assets_value|first_name|last_name|purchase_amount_per_day| salary|cumulative_purchase|\n",
      "+--------------------+--------------------+------------+----------+---------+-----------------------+-------+-------------------+\n",
      "|0e07a711-9338-450...|6238 Elm St, Los ...|   914312.12|      Jane|    Jones|                 623.35| 3015.4|             623.35|\n",
      "|14f7fbdd-fa82-4bb...|5999 Main St, Hou...|   514902.95|     Emily|   Taylor|                 911.94| 3216.6|            1535.29|\n",
      "|6ab68490-3d3f-4cc...|2248 Maple Blvd, ...|   839865.77|    Olivia| Williams|                 799.24|3323.81| 2334.5299999999997|\n",
      "|b36b1045-184b-49e...|3190 Main St, Hou...|   413022.51|      Jane|      Doe|                 576.27|3504.42| 2910.7999999999997|\n",
      "|a3014e1b-b287-4ff...|4996 Oak St, Los ...|    688935.4|     David|    Davis|                 402.19|3534.56|            3312.99|\n",
      "+--------------------+--------------------+------------+----------+---------+-----------------------+-------+-------------------+\n",
      "only showing top 5 rows\n",
      "\n"
     ]
    }
   ],
   "source": [
    "df.withColumn(\"cumulative_purchase\", F.sum(\"purchase_amount_per_day\").over(Window.orderBy(\"salary\").rowsBetween(Window.unboundedPreceding, 0))).show(5)\n",
    "# Cumulative sum by salary ascending  "
   ]
  },
  {
   "cell_type": "markdown",
   "id": "a6245177-8b75-4031-a607-7e63189cad91",
   "metadata": {},
   "source": [
    "# SQL "
   ]
  },
  {
   "cell_type": "code",
   "execution_count": 42,
   "id": "a66c91ea-a769-475c-b06c-5c856de0704b",
   "metadata": {},
   "outputs": [
    {
     "name": "stdout",
     "output_type": "stream",
     "text": [
      "+----------+---------+-------+\n",
      "|first_name|last_name| salary|\n",
      "+----------+---------+-------+\n",
      "|      John|    Jones|8118.38|\n",
      "|       Bob|  Johnson|9603.33|\n",
      "|   Charlie|   Taylor|9187.35|\n",
      "|     Emily|    Smith|8470.16|\n",
      "|    Olivia|      Doe|9708.16|\n",
      "+----------+---------+-------+\n",
      "only showing top 5 rows\n",
      "\n"
     ]
    }
   ],
   "source": [
    "df.createOrReplaceTempView(\"customers\")\n",
    "spark.sql(\"SELECT first_name, last_name, salary FROM customers WHERE salary > 8000\").show(5)\n",
    "# SQL query "
   ]
  },
  {
   "cell_type": "code",
   "execution_count": 43,
   "id": "1cf942e8-55b8-4114-9b2e-fe5d89f8f4a6",
   "metadata": {},
   "outputs": [
    {
     "name": "stdout",
     "output_type": "stream",
     "text": [
      "+---------+-----------------+\n",
      "|last_name|       avg_salary|\n",
      "+---------+-----------------+\n",
      "| Williams|6712.712105263158|\n",
      "|      Doe|6905.512857142858|\n",
      "|   Taylor|         6485.335|\n",
      "|    Brown|6922.641818181818|\n",
      "|  Johnson|7202.782857142856|\n",
      "|    Davis|         6283.195|\n",
      "|   Garcia|6194.517777777777|\n",
      "|    Smith|6827.235714285714|\n",
      "|   Miller|          7115.67|\n",
      "|    Jones|6269.030000000001|\n",
      "+---------+-----------------+\n",
      "\n"
     ]
    }
   ],
   "source": [
    "spark.sql(\"SELECT last_name, AVG(salary) as avg_salary FROM customers GROUP BY last_name\").show()\n",
    "# SQL groupby"
   ]
  },
  {
   "cell_type": "code",
   "execution_count": null,
   "id": "94461ac0-17bd-4571-8757-5c02f98c4bcf",
   "metadata": {},
   "outputs": [],
   "source": []
  }
 ],
 "metadata": {
  "kernelspec": {
   "display_name": "Python 3 (ipykernel)",
   "language": "python",
   "name": "python3"
  },
  "language_info": {
   "codemirror_mode": {
    "name": "ipython",
    "version": 3
   },
   "file_extension": ".py",
   "mimetype": "text/x-python",
   "name": "python",
   "nbconvert_exporter": "python",
   "pygments_lexer": "ipython3",
   "version": "3.12.9"
  }
 },
 "nbformat": 4,
 "nbformat_minor": 5
}
