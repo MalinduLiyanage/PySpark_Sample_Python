{
 "cells": [
  {
   "cell_type": "markdown",
   "id": "202b26c2-879c-4353-b67f-aeeba6c5225d",
   "metadata": {},
   "source": [
    "# PySpark GraphX"
   ]
  },
  {
   "cell_type": "markdown",
   "id": "8717a0a8-0acd-49b7-bca6-554f76c99f46",
   "metadata": {},
   "source": [
    "GraphX is available in Scala and Java APIs, but not directly in PySpark (Python).\n",
    "To work with graphs in PySpark, the usual approach is to use GraphFrames — a graph processing library built on top of Spark DataFrames and available in Python."
   ]
  },
  {
   "cell_type": "code",
   "execution_count": 1,
   "id": "c0fbdf13-4f76-40d6-848f-93a4d5508e25",
   "metadata": {},
   "outputs": [],
   "source": [
    "from pyspark.sql import SparkSession # This imports the SparkSession class from the PySpark library.\n",
    "\n",
    "# Lets Initialize a new SparkSession, which is the entry point to programming Spark with the Dataset and DataFrame API.\n",
    "# .builder: This starts the process of creating a SparkSession. \n",
    "# .appName(\"Customer Dataset Analysis\"): Sets the name of the Spark application as “Customer Dataset Analysis.” This name appears in logs, the Spark UI, and other places. \n",
    "# .getOrCreate(): Either returns an existing SparkSession if one already exists in the current context, or creates a new one.\n",
    "\n",
    "spark = SparkSession.builder \\\n",
    "    .appName(\"ReadFromCassandra\") \\\n",
    "    .config(\"spark.jars.packages\", \"com.datastax.spark:spark-cassandra-connector_2.12:3.4.0,graphframes:graphframes:0.8.2-spark3.1-s_2.12\") \\\n",
    "    .config(\"spark.cassandra.connection.host\", \"127.0.0.1\") \\\n",
    "    .config(\"spark.cassandra.connection.port\", \"9042\") \\\n",
    "    .getOrCreate()"
   ]
  },
  {
   "cell_type": "markdown",
   "id": "04d0f304-af73-442e-a4ee-7d153e446758",
   "metadata": {},
   "source": [
    "## What is GraphFrames?\n",
    "GraphFrames extends DataFrames with graph algorithms and graph abstractions (vertices, edges).\n",
    "It’s built on top of DataFrames, so you can easily integrate with other PySpark workflows."
   ]
  },
  {
   "cell_type": "code",
   "execution_count": 2,
   "id": "f2915187-981b-46ca-b039-83dffa4909c0",
   "metadata": {},
   "outputs": [],
   "source": [
    "from graphframes import GraphFrame"
   ]
  },
  {
   "cell_type": "code",
   "execution_count": 3,
   "id": "1649f816-7b18-487b-8f8b-557c055819be",
   "metadata": {},
   "outputs": [],
   "source": [
    "# Spark DataFrame called df, which holds the data for processing\n",
    "\n",
    "df = spark.read \\\n",
    "    .format(\"org.apache.spark.sql.cassandra\") \\\n",
    "    .options(table=\"customers\", keyspace=\"pyspark_keyspace\") \\\n",
    "    .load()"
   ]
  },
  {
   "cell_type": "markdown",
   "id": "ed537245-c5de-4534-8dc7-1b4920bb4c78",
   "metadata": {},
   "source": [
    "## Vertices:\n",
    "These represent the nodes (or entities) in the graph. Each vertex typically has:\n",
    "a unique ID (like a primary key)\n",
    "associated attributes (like name, age, etc.)"
   ]
  },
  {
   "cell_type": "markdown",
   "id": "cfbfb873-0a8e-41ab-84d0-cc5ebb81d911",
   "metadata": {},
   "source": [
    "## Edges:\n",
    "These represent the connections (or relationships) between vertices. \n",
    "\n",
    "Each edge has:\n",
    "a source vertex ID (src)\n",
    "a destination vertex ID (dst)\n",
    "an optional attribute (like the type of relationship)"
   ]
  },
  {
   "cell_type": "code",
   "execution_count": 4,
   "id": "c9fc77c6-8abd-47fa-99ce-345db63d9f75",
   "metadata": {},
   "outputs": [],
   "source": [
    "# Create vertices (must have 'id' column)\n",
    "vertices = df.selectExpr(\"customer_id as id\", \"first_name\", \"last_name\", \"address\", \"assets_value\", \"salary\")"
   ]
  },
  {
   "cell_type": "markdown",
   "id": "3f062bb5-1381-4828-9e48-efe6de984824",
   "metadata": {},
   "source": [
    "The relationship goal is to find same family names from customers"
   ]
  },
  {
   "cell_type": "code",
   "execution_count": 9,
   "id": "a4fe2388-c6f8-4d9a-a8c6-514a34dff48a",
   "metadata": {},
   "outputs": [],
   "source": [
    "# Create edges: join on last_name to create pairs\n",
    "from pyspark.sql import functions as F\n",
    "\n",
    "edges = df.alias(\"df1\").join(\n",
    "    df.alias(\"df2\"),\n",
    "    (F.col(\"df1.last_name\") == F.col(\"df2.last_name\")) & (F.col(\"df1.customer_id\") != F.col(\"df2.customer_id\"))\n",
    ").select(\n",
    "    F.col(\"df1.customer_id\").alias(\"src\"),\n",
    "    F.col(\"df2.customer_id\").alias(\"dst\"),\n",
    "    F.col(\"df1.first_name\").alias(\"src_first_name\"),\n",
    "    F.col(\"df2.first_name\").alias(\"dst_first_name\"),\n",
    "    F.col(\"df1.last_name\").alias(\"last_name\"),\n",
    "    F.lit(\"same_family_name\").alias(\"relationship\")\n",
    ").dropDuplicates()"
   ]
  },
  {
   "cell_type": "code",
   "execution_count": 10,
   "id": "013a0178-0441-4b2c-9c25-4bc5f8d532c5",
   "metadata": {},
   "outputs": [
    {
     "name": "stdout",
     "output_type": "stream",
     "text": [
      "+--------------------+--------------------+--------------+--------------+---------+----------------+\n",
      "|                 src|                 dst|src_first_name|dst_first_name|last_name|    relationship|\n",
      "+--------------------+--------------------+--------------+--------------+---------+----------------+\n",
      "|1f3fcf8a-d218-45c...|63c6073c-8af1-414...|          John|       Michael|    Brown|same_family_name|\n",
      "|1f3fcf8a-d218-45c...|47150df6-af41-434...|          John|          John|    Brown|same_family_name|\n",
      "|1f3fcf8a-d218-45c...|6a35e9e0-59cf-4f9...|          John|          Jane|    Brown|same_family_name|\n",
      "|1f3fcf8a-d218-45c...|5c18aff6-5c5a-4a8...|          John|        Olivia|    Brown|same_family_name|\n",
      "|1f3fcf8a-d218-45c...|0ae62535-bb04-443...|          John|          Jane|    Brown|same_family_name|\n",
      "|1f3fcf8a-d218-45c...|2c038c58-4074-461...|          John|         David|    Brown|same_family_name|\n",
      "|1f3fcf8a-d218-45c...|2779860d-d659-427...|          John|         David|    Brown|same_family_name|\n",
      "|1f3fcf8a-d218-45c...|2bb56d74-6e87-41a...|          John|         Emily|    Brown|same_family_name|\n",
      "|1f3fcf8a-d218-45c...|0fb80c1c-901c-480...|          John|       Michael|    Brown|same_family_name|\n",
      "|1f3fcf8a-d218-45c...|5f7dddd9-7486-435...|          John|          John|    Brown|same_family_name|\n",
      "|5c18aff6-5c5a-4a8...|63c6073c-8af1-414...|        Olivia|       Michael|    Brown|same_family_name|\n",
      "|5c18aff6-5c5a-4a8...|47150df6-af41-434...|        Olivia|          John|    Brown|same_family_name|\n",
      "|5c18aff6-5c5a-4a8...|6a35e9e0-59cf-4f9...|        Olivia|          Jane|    Brown|same_family_name|\n",
      "|5c18aff6-5c5a-4a8...|0ae62535-bb04-443...|        Olivia|          Jane|    Brown|same_family_name|\n",
      "|5c18aff6-5c5a-4a8...|2c038c58-4074-461...|        Olivia|         David|    Brown|same_family_name|\n",
      "|5c18aff6-5c5a-4a8...|1f3fcf8a-d218-45c...|        Olivia|          John|    Brown|same_family_name|\n",
      "|5c18aff6-5c5a-4a8...|2779860d-d659-427...|        Olivia|         David|    Brown|same_family_name|\n",
      "|5c18aff6-5c5a-4a8...|2bb56d74-6e87-41a...|        Olivia|         Emily|    Brown|same_family_name|\n",
      "|5c18aff6-5c5a-4a8...|0fb80c1c-901c-480...|        Olivia|       Michael|    Brown|same_family_name|\n",
      "|5c18aff6-5c5a-4a8...|5f7dddd9-7486-435...|        Olivia|          John|    Brown|same_family_name|\n",
      "+--------------------+--------------------+--------------+--------------+---------+----------------+\n",
      "only showing top 20 rows\n",
      "\n"
     ]
    }
   ],
   "source": [
    "# Show the generated edges\n",
    "edges.show()"
   ]
  },
  {
   "cell_type": "code",
   "execution_count": 11,
   "id": "2a256ff7-9a74-409f-954d-c0de5d7fc2c2",
   "metadata": {},
   "outputs": [
    {
     "name": "stderr",
     "output_type": "stream",
     "text": [
      "C:\\Users\\malin\\anaconda3\\envs\\PySpark_env\\Lib\\site-packages\\pyspark\\sql\\dataframe.py:168: UserWarning: DataFrame.sql_ctx is an internal property, and will be removed in future releases. Use DataFrame.sparkSession instead.\n",
      "  warnings.warn(\n"
     ]
    }
   ],
   "source": [
    "from graphframes import GraphFrame\n",
    "\n",
    "# Create the graph\n",
    "g = GraphFrame(vertices, edges)"
   ]
  },
  {
   "cell_type": "code",
   "execution_count": 13,
   "id": "e5dc7e55-0b3e-4d80-9601-06cb32ec433d",
   "metadata": {},
   "outputs": [
    {
     "name": "stdout",
     "output_type": "stream",
     "text": [
      "Vertices:\n",
      "+--------------------+----------+---------+--------------------+------------+-------+\n",
      "|                  id|first_name|last_name|             address|assets_value| salary|\n",
      "+--------------------+----------+---------+--------------------+------------+-------+\n",
      "|2b78763c-ceed-4a0...|      Jane|   Taylor|9330 Oak St, Chicago|   555194.86| 6552.5|\n",
      "|d5e3cd2b-610b-48f...|       Bob|   Miller|9635 Elm St, Houston|   390784.68|5150.91|\n",
      "|2176e702-a2e3-4ad...|    Sophia|      Doe|1293 Main St, Chi...|   675510.48|7455.35|\n",
      "|549324a6-37fd-48b...|    Olivia|    Davis|2433 Oak St, Phoenix|   501835.93|5618.59|\n",
      "|6a35e9e0-59cf-4f9...|      Jane|    Brown|5050 Main St, New...|   930475.79|5771.22|\n",
      "|68d56238-3bc8-4bc...|      John|   Miller|2809 Oak St, Los ...|   908318.48|4867.72|\n",
      "|de040c86-0422-4f7...|     Emily|    Smith|7840 Main St, New...|   111917.41|7307.63|\n",
      "|14f7fbdd-fa82-4bb...|     Emily|   Taylor|5999 Main St, Hou...|   514902.95| 3216.6|\n",
      "|7fc8ce80-b21f-4b3...|     David|   Taylor|2216 Maple Blvd, ...|   105099.35|4997.36|\n",
      "|68927642-4b6b-448...|    Sophia|   Garcia|3531 Maple Blvd, ...|   708496.15| 4210.6|\n",
      "|1422ae11-9fe4-4cb...|   Charlie|   Garcia|8051 Maple Blvd, ...|   976413.55|5411.79|\n",
      "|a75d3e27-f799-4bb...|    Sophia| Williams|7007 Main St, Hou...|   996535.31|6099.39|\n",
      "|7d63882a-8a97-4f6...|   Charlie|    Smith|3758 Maple Blvd, ...|    604139.2|3778.29|\n",
      "|70e68da1-36ef-465...|     David| Williams|3421 Elm St, Chicago|   763662.36|8756.06|\n",
      "|47150df6-af41-434...|      John|    Brown|5968 Oak St, Los ...|   301249.79|4762.98|\n",
      "|1125910a-60ba-481...|     Emily|    Smith|8495 Main St, Pho...|   696736.52|8470.16|\n",
      "|1011d0c2-2e47-43a...|    Olivia|      Doe|3108 Oak St, Los ...|   655369.65|9708.16|\n",
      "|d920e993-7616-41c...|    Sophia| Williams|4517 Pine Ave, Ch...|   159208.98|5307.29|\n",
      "|18f478a5-2b59-4b2...|     Emily| Williams|6367 Main St, Pho...|   607651.75|6815.21|\n",
      "|86d99ab8-3f72-4fe...|    Sophia|    Smith|725 Main St, Los ...|   505158.31|7464.95|\n",
      "+--------------------+----------+---------+--------------------+------------+-------+\n",
      "only showing top 20 rows\n",
      "\n"
     ]
    }
   ],
   "source": [
    "# Show the vertices\n",
    "print(\"Vertices:\")\n",
    "g.vertices.show()"
   ]
  },
  {
   "cell_type": "code",
   "execution_count": 14,
   "id": "d87c321e-58fd-444c-9657-85901a6947f8",
   "metadata": {},
   "outputs": [
    {
     "name": "stdout",
     "output_type": "stream",
     "text": [
      "Edges:\n",
      "+--------------------+--------------------+--------------+--------------+---------+----------------+\n",
      "|                 src|                 dst|src_first_name|dst_first_name|last_name|    relationship|\n",
      "+--------------------+--------------------+--------------+--------------+---------+----------------+\n",
      "|63c6073c-8af1-414...|1f3fcf8a-d218-45c...|       Michael|          John|    Brown|same_family_name|\n",
      "|63c6073c-8af1-414...|5c18aff6-5c5a-4a8...|       Michael|        Olivia|    Brown|same_family_name|\n",
      "|63c6073c-8af1-414...|5f7dddd9-7486-435...|       Michael|          John|    Brown|same_family_name|\n",
      "|63c6073c-8af1-414...|2779860d-d659-427...|       Michael|         David|    Brown|same_family_name|\n",
      "|63c6073c-8af1-414...|2bb56d74-6e87-41a...|       Michael|         Emily|    Brown|same_family_name|\n",
      "|63c6073c-8af1-414...|0fb80c1c-901c-480...|       Michael|       Michael|    Brown|same_family_name|\n",
      "|63c6073c-8af1-414...|47150df6-af41-434...|       Michael|          John|    Brown|same_family_name|\n",
      "|63c6073c-8af1-414...|0ae62535-bb04-443...|       Michael|          Jane|    Brown|same_family_name|\n",
      "|63c6073c-8af1-414...|2c038c58-4074-461...|       Michael|         David|    Brown|same_family_name|\n",
      "|63c6073c-8af1-414...|6a35e9e0-59cf-4f9...|       Michael|          Jane|    Brown|same_family_name|\n",
      "|47150df6-af41-434...|1f3fcf8a-d218-45c...|          John|          John|    Brown|same_family_name|\n",
      "|47150df6-af41-434...|5c18aff6-5c5a-4a8...|          John|        Olivia|    Brown|same_family_name|\n",
      "|47150df6-af41-434...|5f7dddd9-7486-435...|          John|          John|    Brown|same_family_name|\n",
      "|47150df6-af41-434...|2779860d-d659-427...|          John|         David|    Brown|same_family_name|\n",
      "|47150df6-af41-434...|2bb56d74-6e87-41a...|          John|         Emily|    Brown|same_family_name|\n",
      "|47150df6-af41-434...|0fb80c1c-901c-480...|          John|       Michael|    Brown|same_family_name|\n",
      "|47150df6-af41-434...|0ae62535-bb04-443...|          John|          Jane|    Brown|same_family_name|\n",
      "|47150df6-af41-434...|2c038c58-4074-461...|          John|         David|    Brown|same_family_name|\n",
      "|47150df6-af41-434...|6a35e9e0-59cf-4f9...|          John|          Jane|    Brown|same_family_name|\n",
      "|47150df6-af41-434...|63c6073c-8af1-414...|          John|       Michael|    Brown|same_family_name|\n",
      "+--------------------+--------------------+--------------+--------------+---------+----------------+\n",
      "only showing top 20 rows\n",
      "\n"
     ]
    }
   ],
   "source": [
    "# Show the edges\n",
    "print(\"Edges:\")\n",
    "g.edges.show()"
   ]
  },
  {
   "cell_type": "markdown",
   "id": "b445be88-a93b-472c-bdd2-bcb17f08a6b2",
   "metadata": {},
   "source": [
    "# PageRank\n",
    "\n",
    "PageRank measures how important each node is in a graph, based on the idea that a node is important if other important nodes point to it.\n",
    "Simple Example:\n",
    "Imagine a group of friends: Alice, Bob, and Charlie. If everyone talks about Alice, Alice is probably important!\n",
    "PageRank is like counting how many people mention or “recommend” each other. If important people mention you, you become even more important."
   ]
  },
  {
   "cell_type": "code",
   "execution_count": 16,
   "id": "aef577c3-cdd3-4db4-a341-1110b6ca7cde",
   "metadata": {},
   "outputs": [
    {
     "name": "stdout",
     "output_type": "stream",
     "text": [
      "+--------------------+----------+---------+--------------------+------------+-------+------------------+\n",
      "|                  id|first_name|last_name|             address|assets_value| salary|          pagerank|\n",
      "+--------------------+----------+---------+--------------------+------------+-------+------------------+\n",
      "|1125910a-60ba-481...|     Emily|    Smith|8495 Main St, Pho...|   696736.52|8470.16|0.9999999999999996|\n",
      "|1011d0c2-2e47-43a...|    Olivia|      Doe|3108 Oak St, Los ...|   655369.65|9708.16|0.9999999999999998|\n",
      "|d920e993-7616-41c...|    Sophia| Williams|4517 Pine Ave, Ch...|   159208.98|5307.29|1.0000000000000002|\n",
      "|18f478a5-2b59-4b2...|     Emily| Williams|6367 Main St, Pho...|   607651.75|6815.21|1.0000000000000002|\n",
      "|86d99ab8-3f72-4fe...|    Sophia|    Smith|725 Main St, Los ...|   505158.31|7464.95|0.9999999999999996|\n",
      "|2bb52b82-4f81-421...|     Alice| Williams|935 Main St, Los ...|   445681.62|7320.36|1.0000000000000002|\n",
      "|1f3fcf8a-d218-45c...|      John|    Brown|295 Maple Blvd, N...|   328067.91|9913.39|0.9999999999999999|\n",
      "|cad8919d-6afa-40d...|     Alice| Williams|7065 Main St, Los...|   330486.84|6277.64|1.0000000000000002|\n",
      "|5288902d-16c8-4f4...|     David|   Miller|7721 Main St, Pho...|   858278.27|9285.01|0.9999999999999998|\n",
      "|721ea030-8ba9-4a2...|      Jane| Williams|5781 Maple Blvd, ...|   132526.02|6954.91|1.0000000000000002|\n",
      "|0e07a711-9338-450...|      Jane|    Jones|6238 Elm St, Los ...|   914312.12| 3015.4|               1.0|\n",
      "|8489da6b-9076-4e4...|     Alice|      Doe|39 Main St, Los A...|    333407.9|4818.09|0.9999999999999998|\n",
      "|685b993f-571d-411...|   Charlie|    Smith|3858 Pine Ave, Ph...|    901010.6|4007.45|0.9999999999999996|\n",
      "|ad347a5c-6c89-4e1...|     Emily|  Johnson|8983 Oak St, Houston|    674981.9|4457.55|0.9999999999999998|\n",
      "|da0c930e-1238-4c6...|     David|    Smith|7611 Maple Blvd, ...|   749505.48|9220.52|0.9999999999999996|\n",
      "|0ae62535-bb04-443...|      Jane|    Brown|8336 Pine Ave, Lo...|     45218.1|4550.61|0.9999999999999999|\n",
      "|e24d89fe-d2d8-44e...|       Bob|    Jones|9659 Elm St, New ...|   845708.49|7329.79|               1.0|\n",
      "|2c038c58-4074-461...|     David|    Brown|1441 Pine Ave, Ph...|    35767.32|9131.28|0.9999999999999999|\n",
      "|ff28f413-cac2-482...|    Olivia|  Johnson|2838 Elm St, Houston|   393683.82|9782.56|0.9999999999999998|\n",
      "|4aad02cc-9d56-4d7...|   Michael|    Davis|7350 Main St, Pho...|    65304.44| 8200.2|1.0000000000000002|\n",
      "+--------------------+----------+---------+--------------------+------------+-------+------------------+\n",
      "only showing top 20 rows\n",
      "\n"
     ]
    }
   ],
   "source": [
    "pagerank = g.pageRank(resetProbability=0.15, maxIter=5)\n",
    "pagerank.vertices.show()"
   ]
  },
  {
   "cell_type": "markdown",
   "id": "4dc8cf4c-cf3c-4c04-83aa-18e225c6df54",
   "metadata": {},
   "source": [
    "# Triangle Count\n",
    "\n",
    "Triangle Count tells you how many triangles there are in your network. A triangle is 3 people (or nodes) who are all connected to each other.\n",
    "Simple Example:\n",
    "Let’s say:\n",
    "Alice is friends with Bob.\n",
    "Bob is friends with Charlie.\n",
    "Alice is also friends with Charlie.\n",
    "That’s a triangle—everyone in the triangle knows each other."
   ]
  },
  {
   "cell_type": "code",
   "execution_count": 18,
   "id": "ff1b08d3-a6a5-4bf0-bf81-15cc43d268ee",
   "metadata": {},
   "outputs": [
    {
     "name": "stdout",
     "output_type": "stream",
     "text": [
      "+-----+--------------------+----------+---------+--------------------+------------+-------+\n",
      "|count|                  id|first_name|last_name|             address|assets_value| salary|\n",
      "+-----+--------------------+----------+---------+--------------------+------------+-------+\n",
      "|   55|2da63cc1-8e2d-49f...|      Jane|    Davis|2539 Maple Blvd, ...|   885284.37|6039.09|\n",
      "|   15|b36b1045-184b-49e...|      Jane|      Doe|3190 Main St, Hou...|   413022.51|3504.42|\n",
      "|   28|fb6edfff-3187-478...|     Alice|   Garcia|2998 Pine Ave, Ph...|   907752.67|5457.94|\n",
      "|   15|a045bef9-b281-442...|    Olivia|      Doe|3786 Oak St, Los ...|   744804.54|8491.88|\n",
      "|   55|d652f7b4-2c5c-4ea...|      Jane|   Taylor|9849 Maple Blvd, ...|   343330.21|5051.17|\n",
      "|   45|5c18aff6-5c5a-4a8...|    Olivia|    Brown|3902 Oak St, New ...|   314844.16|9021.98|\n",
      "|   15|48a04704-1533-478...|   Charlie|  Johnson|9564 Pine Ave, Lo...|   722351.04|9520.67|\n",
      "|  153|6ab68490-3d3f-4cc...|    Olivia| Williams|2248 Maple Blvd, ...|   839865.77|3323.81|\n",
      "|   55|c4fddbb3-d88a-4af...|      Jane|   Taylor|9271 Oak St, Los ...|   535327.35| 4997.5|\n",
      "|   55|a3bd7c9e-1956-489...|      John|   Taylor|1156 Pine Ave, Ne...|   145990.58|4767.53|\n",
      "|   45|5f7dddd9-7486-435...|      John|    Brown|7953 Oak St, Phoenix|   257875.56|9664.46|\n",
      "|   15|1011d0c2-2e47-43a...|    Olivia|      Doe|3108 Oak St, Los ...|   655369.65|9708.16|\n",
      "|  153|721ea030-8ba9-4a2...|      Jane| Williams|5781 Maple Blvd, ...|   132526.02|6954.91|\n",
      "|  153|d920e993-7616-41c...|    Sophia| Williams|4517 Pine Ave, Ch...|   159208.98|5307.29|\n",
      "|   45|1f3fcf8a-d218-45c...|      John|    Brown|295 Maple Blvd, N...|   328067.91|9913.39|\n",
      "|  153|cad8919d-6afa-40d...|     Alice| Williams|7065 Main St, Los...|   330486.84|6277.64|\n",
      "|  153|18f478a5-2b59-4b2...|     Emily| Williams|6367 Main St, Pho...|   607651.75|6815.21|\n",
      "|   78|86d99ab8-3f72-4fe...|    Sophia|    Smith|725 Main St, Los ...|   505158.31|7464.95|\n",
      "|  153|2bb52b82-4f81-421...|     Alice| Williams|935 Main St, Los ...|   445681.62|7320.36|\n",
      "|   15|5288902d-16c8-4f4...|     David|   Miller|7721 Main St, Pho...|   858278.27|9285.01|\n",
      "+-----+--------------------+----------+---------+--------------------+------------+-------+\n",
      "only showing top 20 rows\n",
      "\n"
     ]
    }
   ],
   "source": [
    "triangles = g.triangleCount()\n",
    "triangles.show()"
   ]
  },
  {
   "cell_type": "code",
   "execution_count": null,
   "id": "93a60dee-a545-4ab3-9043-873b87c9b706",
   "metadata": {},
   "outputs": [],
   "source": []
  }
 ],
 "metadata": {
  "kernelspec": {
   "display_name": "Python 3 (ipykernel)",
   "language": "python",
   "name": "python3"
  },
  "language_info": {
   "codemirror_mode": {
    "name": "ipython",
    "version": 3
   },
   "file_extension": ".py",
   "mimetype": "text/x-python",
   "name": "python",
   "nbconvert_exporter": "python",
   "pygments_lexer": "ipython3",
   "version": "3.12.9"
  }
 },
 "nbformat": 4,
 "nbformat_minor": 5
}
